{
  "nbformat": 4,
  "nbformat_minor": 0,
  "metadata": {
    "colab": {
      "name": "Building a PyTorch MNIST NN Setup Workalong 020322",
      "provenance": [],
      "authorship_tag": "ABX9TyO97J6+9IMYiwJzUSonxiVL",
      "include_colab_link": true
    },
    "kernelspec": {
      "name": "python3",
      "display_name": "Python 3"
    },
    "language_info": {
      "name": "python"
    }
  },
  "cells": [
    {
      "cell_type": "markdown",
      "metadata": {
        "id": "view-in-github",
        "colab_type": "text"
      },
      "source": [
        "<a href=\"https://colab.research.google.com/github/NathanielJames97/Porfolio/blob/main/Building_a_PyTorch_MNIST_NN_Setup_Workalong_020322.ipynb\" target=\"_parent\"><img src=\"https://colab.research.google.com/assets/colab-badge.svg\" alt=\"Open In Colab\"/></a>"
      ]
    },
    {
      "cell_type": "code",
      "execution_count": 2,
      "metadata": {
        "id": "wvw92uYXbGYN"
      },
      "outputs": [],
      "source": [
        "import torch\n",
        "import torchvision\n",
        "from torchvision import transforms, datasets\n",
        "\n",
        "train = datasets.MNIST('', train=True, download=True,\n",
        "                       transform=transforms.Compose([\n",
        "                                                     transforms.ToTensor()\n",
        "                       ]))\n",
        "\n",
        "test = datasets.MNIST('', train=False, download=True,\n",
        "                       transform=transforms.Compose([\n",
        "                                                     transforms.ToTensor()\n",
        "                       ]))\n",
        "\n",
        "trainset = torch.utils.data.DataLoader(train, batch_size=10, shuffle=True)\n",
        "testset = torch.utils.data.DataLoader(test, batch_size=10, shuffle=True)"
      ]
    },
    {
      "cell_type": "code",
      "source": [
        "import torch.nn as nn\n",
        "import torch.nn.functional as F\n",
        "#Interchangable librariers NN is Object Orientated, Functional is functional,  runs asa function\n",
        "\n"
      ],
      "metadata": {
        "id": "mTSqE7X_cndA"
      },
      "execution_count": 4,
      "outputs": []
    },
    {
      "cell_type": "code",
      "source": [
        "class Net(nn.Module):\n",
        "  def __init__(self) -> None:\n",
        "      super().__init__()\n",
        "      # Define the layers of network : KEY:fc1 = fully connected 1\n",
        "      #self.fc1 = nn.layer(input, output)\n",
        "      self.fc1 = nn.Linear(28*28, 64)  # Input is image size when flattened therefore 28x28\n",
        "      self.fc2 = nn.Linear(64, 64)\n",
        "      self.fc3 = nn.Linear(64, 64)\n",
        "      self.fc4 = nn.Linear(64, 10) # Output 10 as there are 10 output classes: Numbers 0-9\n",
        "    \n",
        "    #Now we have definied layers, we not need to tell it how to pass through\n",
        "  def forward(self,x):\n",
        "    # Pass itself through the layers with an activation function e.g. ReLU, helps prevent results numbers being out of bounds.\n",
        "      x = F.relu(self.fc1(x))\n",
        "      x = F.relu(self.fc2(x))\n",
        "      x = F.relu(self.fc3(x))\n",
        "      # Don't need Linear RELU function on output layer to be selective, want a probability output distribution\n",
        "      # For multiclass outputs usually use softmax\n",
        "      x = self.fc4(x)\n",
        "      return F.log_softmax(x, dim=1)\n",
        "\n",
        "      \n",
        "      \n",
        "      \n",
        "      \n",
        "      return x\n",
        "\n",
        "\n",
        "\n",
        "net = Net()\n",
        "print(net)\n",
        "      "
      ],
      "metadata": {
        "colab": {
          "base_uri": "https://localhost:8080/"
        },
        "id": "vAPW4awJdKLC",
        "outputId": "a4ad9b4d-b04c-4e1b-c823-1a0c29be5bd7"
      },
      "execution_count": 6,
      "outputs": [
        {
          "output_type": "stream",
          "name": "stdout",
          "text": [
            "Net(\n",
            "  (fc1): Linear(in_features=784, out_features=64, bias=True)\n",
            "  (fc2): Linear(in_features=64, out_features=64, bias=True)\n",
            "  (fc3): Linear(in_features=64, out_features=64, bias=True)\n",
            "  (fc4): Linear(in_features=64, out_features=10, bias=True)\n",
            ")\n"
          ]
        }
      ]
    },
    {
      "cell_type": "code",
      "source": [
        "# An example of running random data though the network BASIC\n",
        "X = torch.rand((28,28))\n",
        "\n",
        "X = X.view(1, 28*28)"
      ],
      "metadata": {
        "id": "gYXXshNCeqd8"
      },
      "execution_count": 8,
      "outputs": []
    },
    {
      "cell_type": "code",
      "source": [
        "output = net(X)\n",
        "output"
      ],
      "metadata": {
        "colab": {
          "base_uri": "https://localhost:8080/"
        },
        "id": "zBGA2XuYhRci",
        "outputId": "993f1eda-da4f-4172-96c3-efaa1ccd793e"
      },
      "execution_count": 10,
      "outputs": [
        {
          "output_type": "execute_result",
          "data": {
            "text/plain": [
              "tensor([[-2.3350, -2.2802, -2.2664, -2.4142, -2.4100, -2.3397, -2.3940, -2.1536,\n",
              "         -2.1731, -2.2978]], grad_fn=<LogSoftmaxBackward0>)"
            ]
          },
          "metadata": {},
          "execution_count": 10
        }
      ]
    },
    {
      "cell_type": "code",
      "source": [
        "# Goal overtime is to have Loss decrease\n",
        "import torch.optim as optim\n",
        "# lr = Learning Rate can be tweaked - Don't want steps too big so you don't miss optimised points\n",
        "# Don't want it too small as it might think it's optimised too soon\n",
        "# Correct amount is trial and error - On more complex model use a decaying learning rate to optimise at it goes on.\n",
        "optimizer = optim.Adam(net.parameters(), lr=0.001)\n",
        "\n",
        "# We optimise to reduce loss not increase accuracy, it just happens less loss is more accurate\n",
        "\n",
        "#Each time we do a whole pass through a data its called an Epoch\n",
        "\n",
        "EPOCHS = 3\n",
        "\n",
        "for epoch in range(EPOCHS):\n",
        "  for data in trainset:\n",
        "    # data is a batch of featureset and labels\n",
        "    X, y = data\n",
        "    # Everytime we calc loss and optimise model\n",
        "    net.zero_grad()\n",
        "    # Clear gradient each time to reset it all when passing through\n",
        "    output = net(X.view(-1, 28*28))\n",
        "    #Now calculate loss\n",
        "    loss = F.nll_loss(output, y)\n",
        "    # For one hot outputs use MeanSquareError , for scaler output values use nll_loss or similar, can't use MSE\n",
        "    loss.backward() # Do back propogation\n",
        "    optimizer.step() # Adjust weights for us\n",
        "  print(loss)"
      ],
      "metadata": {
        "colab": {
          "base_uri": "https://localhost:8080/"
        },
        "id": "vVyWUpcshzWY",
        "outputId": "2c69f45f-a0a9-44cd-93b9-b90a436d6e2b"
      },
      "execution_count": 20,
      "outputs": [
        {
          "output_type": "stream",
          "name": "stdout",
          "text": [
            "tensor(0.8052, grad_fn=<NllLossBackward0>)\n",
            "tensor(0.0260, grad_fn=<NllLossBackward0>)\n",
            "tensor(0.0013, grad_fn=<NllLossBackward0>)\n"
          ]
        }
      ]
    },
    {
      "cell_type": "code",
      "source": [
        "#Lets see how good the network is at this point #\n",
        "correct = 0\n",
        "total = 0\n",
        "\n",
        "with torch.no_grad():\n",
        "  for data in testset:\n",
        "    X, y = data\n",
        "    output = net(X.view(-1, 28*28))\n",
        "    for idx, i in enumerate(output):\n",
        "      if torch.argmax(i) == y[idx]:\n",
        "        correct += 1\n",
        "      total += 1\n",
        "\n",
        "print(\"Accuracy:\", round(correct/total, 3))"
      ],
      "metadata": {
        "colab": {
          "base_uri": "https://localhost:8080/"
        },
        "id": "QkyblBCWluJo",
        "outputId": "e01f893b-095d-4a8b-b2d5-d6b9cb11d128"
      },
      "execution_count": 21,
      "outputs": [
        {
          "output_type": "stream",
          "name": "stdout",
          "text": [
            "Accuracy: 0.972\n"
          ]
        }
      ]
    },
    {
      "cell_type": "code",
      "source": [
        "import matplotlib.pyplot as plt\n",
        "\n",
        "plt.imshow(X[7].view(28,28))\n",
        "plt.show()"
      ],
      "metadata": {
        "colab": {
          "base_uri": "https://localhost:8080/",
          "height": 265
        },
        "id": "S3RAkk45ooIJ",
        "outputId": "a4d65815-b0e1-4ba7-e0b6-c9b422140c29"
      },
      "execution_count": 26,
      "outputs": [
        {
          "output_type": "display_data",
          "data": {
            "image/png": "[encoded data removed]",
            "text/plain": [
              "<Figure size 432x288 with 1 Axes>"
            ]
          },
          "metadata": {
            "needs_background": "light"
          }
        }
      ]
    },
    {
      "cell_type": "code",
      "source": [
        "print(torch.argmax(net(X[7].view(-1,784))[0]))"
      ],
      "metadata": {
        "colab": {
          "base_uri": "https://localhost:8080/"
        },
        "id": "Vq7v9Glxxeym",
        "outputId": "798bfb01-6c44-473b-b355-1b9850599b5f"
      },
      "execution_count": 27,
      "outputs": [
        {
          "output_type": "stream",
          "name": "stdout",
          "text": [
            "tensor(2)\n"
          ]
        }
      ]
    },
    {
      "cell_type": "code",
      "source": [
        ""
      ],
      "metadata": {
        "id": "vM09UGN6xon7"
      },
      "execution_count": null,
      "outputs": []
    }
  ]
}